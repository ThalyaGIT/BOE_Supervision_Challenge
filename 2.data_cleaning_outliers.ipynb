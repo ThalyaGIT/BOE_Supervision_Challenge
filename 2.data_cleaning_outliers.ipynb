{
 "cells": [
  {
   "cell_type": "code",
   "execution_count": 264,
   "metadata": {},
   "outputs": [],
   "source": [
    "import pandas as pd\n",
    "import numpy as np\n",
    "from scipy import stats\n",
    "import seaborn as sns\n",
    "import matplotlib.pyplot as plt\n",
    "\n",
    "\n",
    "df = pd.read_csv('clean_dataset.csv')\n",
    "\n",
    "# Configure data type to String\n",
    "df['Year End'] = df['Year End'].astype(str)\n",
    "\n",
    "# List numeric columns\n",
    "numeric_cols = df.select_dtypes(include=[np.number]).columns\n",
    "\n",
    "for column in numeric_cols:   \n",
    "    sns.boxplot(data=df, x='Year End', y=column)\n",
    "    plt.show()"
   ]
  },
  {
   "cell_type": "markdown",
   "metadata": {},
   "source": [
    "These columns had very obvious outliers:\n",
    "\n",
    "gross combination ratio, gross expense ratio, net combination ratio, net expense ratio, pure gross claims ratio, pure net claims ratio, SCR Coverage ratio\n",
    "\n",
    "The data distribution for all columns also seem to be skewed (mostly to the right). Natural to have few big players and many small players in the insurance industry. \n",
    "\n",
    "Because it is a skewed distribution, I will use the interquartile range to identify them.\n",
    "\n",
    "Since it is hard to differentiate between outlier and we want to find the big and risky firms to supervise, I will be very conservative and allow for a very high upper limit"
   ]
  },
  {
   "cell_type": "code",
   "execution_count": 265,
   "metadata": {},
   "outputs": [],
   "source": [
    "# Calculate quantiles and IQR\n",
    "Q1 = df[numeric_cols].quantile(0.25) \n",
    "Q3 = df[numeric_cols].quantile(0.75)\n",
    "IQR = Q3 - Q1\n",
    "\n",
    "upper_limit = Q3 + 10 * IQR\n",
    "lower_limit = Q1 - 3 * IQR\n",
    "\n",
    "# Return a boolean array of the rows with (any) non-outlier column values\n",
    "condition = ~((df[numeric_cols] < (lower_limit)) | (df[numeric_cols] > (upper_limit))).any(axis=1)\n",
    "\n",
    "# Create a dataframe of rows which fall outside limits\n",
    "df_within_limit = df[condition]\n",
    "\n",
    "df_outside_limit = df[~condition]\n",
    "\n",
    "# Update conditions for firms which have have more than two rows outside limit:\n",
    "for i, firm_names in df_outside_limit['Firm Name'].items():\n",
    "    if len(df_outside_limit[df_outside_limit['Firm Name'] == firm_names]) > 1:\n",
    "        condition[i]=True\n",
    "\n",
    "# New upper limit\n",
    "new_upper_limit = Q3 + 50 * IQR\n",
    "new_lower_limit = Q1 - 3 * IQR\n",
    "\n",
    "# Return a boolean array of the rows with (any) non-outlier column values\n",
    "condition = ~((df[numeric_cols] < (new_lower_limit)) | (df[numeric_cols] > (new_upper_limit))).any(axis=1)\n",
    "\n",
    "\n",
    "# Filter our dataframe based on condition\n",
    "df_no_outlier = df[condition]"
   ]
  },
  {
   "cell_type": "code",
   "execution_count": 267,
   "metadata": {},
   "outputs": [
    {
     "data": {
      "text/html": [
       "<div class='tableauPlaceholder' id='viz1701026923696' style='position: relative'><noscript><a href='#'><img alt='BoE Supervision Challenge ' src='https:&#47;&#47;public.tableau.com&#47;static&#47;images&#47;Bo&#47;BoESupervisionChallenge-NewDistribution&#47;DistributionDashboard&#47;1_rss.png' style='border: none' /></a></noscript><object class='tableauViz'  style='display:none;'><param name='host_url' value='https%3A%2F%2Fpublic.tableau.com%2F' /> <param name='embed_code_version' value='3' /> <param name='site_root' value='' /><param name='name' value='BoESupervisionChallenge-NewDistribution&#47;DistributionDashboard' /><param name='tabs' value='no' /><param name='toolbar' value='yes' /><param name='static_image' value='https:&#47;&#47;public.tableau.com&#47;static&#47;images&#47;Bo&#47;BoESupervisionChallenge-NewDistribution&#47;DistributionDashboard&#47;1.png' /> <param name='animate_transition' value='yes' /><param name='display_static_image' value='yes' /><param name='display_spinner' value='yes' /><param name='display_overlay' value='yes' /><param name='display_count' value='yes' /><param name='language' value='en-GB' /><param name='filter' value='publish=yes' /></object></div>                <script type='text/javascript'>                    var divElement = document.getElementById('viz1701026923696');                    var vizElement = divElement.getElementsByTagName('object')[0];                    if ( divElement.offsetWidth > 800 ) { vizElement.style.width='1000px';vizElement.style.height='827px';} else if ( divElement.offsetWidth > 500 ) { vizElement.style.width='1000px';vizElement.style.height='827px';} else { vizElement.style.width='100%';vizElement.style.height='727px';}                     var scriptElement = document.createElement('script');                    scriptElement.src = 'https://public.tableau.com/javascripts/api/viz_v1.js';                    vizElement.parentNode.insertBefore(scriptElement, vizElement);                </script>\n"
      ],
      "text/plain": [
       "<IPython.core.display.HTML object>"
      ]
     },
     "metadata": {},
     "output_type": "display_data"
    }
   ],
   "source": [
    "%%HTML\n",
    "<div class='tableauPlaceholder' id='viz1701026923696' style='position: relative'><noscript><a href='#'><img alt='BoE Supervision Challenge ' src='https:&#47;&#47;public.tableau.com&#47;static&#47;images&#47;Bo&#47;BoESupervisionChallenge-NewDistribution&#47;DistributionDashboard&#47;1_rss.png' style='border: none' /></a></noscript><object class='tableauViz'  style='display:none;'><param name='host_url' value='https%3A%2F%2Fpublic.tableau.com%2F' /> <param name='embed_code_version' value='3' /> <param name='site_root' value='' /><param name='name' value='BoESupervisionChallenge-NewDistribution&#47;DistributionDashboard' /><param name='tabs' value='no' /><param name='toolbar' value='yes' /><param name='static_image' value='https:&#47;&#47;public.tableau.com&#47;static&#47;images&#47;Bo&#47;BoESupervisionChallenge-NewDistribution&#47;DistributionDashboard&#47;1.png' /> <param name='animate_transition' value='yes' /><param name='display_static_image' value='yes' /><param name='display_spinner' value='yes' /><param name='display_overlay' value='yes' /><param name='display_count' value='yes' /><param name='language' value='en-GB' /><param name='filter' value='publish=yes' /></object></div>                <script type='text/javascript'>                    var divElement = document.getElementById('viz1701026923696');                    var vizElement = divElement.getElementsByTagName('object')[0];                    if ( divElement.offsetWidth > 800 ) { vizElement.style.width='1000px';vizElement.style.height='827px';} else if ( divElement.offsetWidth > 500 ) { vizElement.style.width='1000px';vizElement.style.height='827px';} else { vizElement.style.width='100%';vizElement.style.height='727px';}                     var scriptElement = document.createElement('script');                    scriptElement.src = 'https://public.tableau.com/javascripts/api/viz_v1.js';                    vizElement.parentNode.insertBefore(scriptElement, vizElement);                </script>"
   ]
  },
  {
   "cell_type": "code",
   "execution_count": 268,
   "metadata": {},
   "outputs": [],
   "source": [
    "df_no_outlier.to_csv('clean_dataset_2.csv', encoding='utf-8', index=False)"
   ]
  },
  {
   "cell_type": "markdown",
   "metadata": {},
   "source": [
    "rows removed as a result of trimming:\n",
    "\n",
    "2280-2101 = 27"
   ]
  }
 ],
 "metadata": {
  "kernelspec": {
   "display_name": "Python 3",
   "language": "python",
   "name": "python3"
  },
  "language_info": {
   "codemirror_mode": {
    "name": "ipython",
    "version": 3
   },
   "file_extension": ".py",
   "mimetype": "text/x-python",
   "name": "python",
   "nbconvert_exporter": "python",
   "pygments_lexer": "ipython3",
   "version": "3.10.0"
  }
 },
 "nbformat": 4,
 "nbformat_minor": 2
}
